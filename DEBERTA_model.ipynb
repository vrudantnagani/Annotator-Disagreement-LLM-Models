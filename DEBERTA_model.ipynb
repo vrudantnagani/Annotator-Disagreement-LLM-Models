{
 "cells": [
  {
   "cell_type": "code",
   "execution_count": 1,
   "metadata": {},
   "outputs": [],
   "source": [
    "import torch\n",
    "import pandas as pd\n",
    "import transformers\n",
    "from transformers import GPT2Tokenizer, GPT2LMHeadModel, Trainer, TrainingArguments\n",
    "import json\n",
    "from datasets import load_dataset, concatenate_datasets\n",
    "import pandas as pd\n",
    "import os"
   ]
  },
  {
   "cell_type": "code",
   "execution_count": 2,
   "metadata": {},
   "outputs": [
    {
     "name": "stdout",
     "output_type": "stream",
     "text": [
      "Using device: cuda\n"
     ]
    }
   ],
   "source": [
    "# Check if a GPU is available and set PyTorch to use the GPU\n",
    "device = torch.device(\"cuda\" if torch.cuda.is_available() else \"cpu\")\n",
    "print(f\"Using device: {device}\")"
   ]
  },
  {
   "cell_type": "code",
   "execution_count": 3,
   "metadata": {},
   "outputs": [],
   "source": [
    "def save_checkpoint(predictions, current_index, checkpoint_path):\n",
    "    with open(checkpoint_path, 'w') as file:\n",
    "        json.dump({'last_index': current_index, 'predictions': predictions}, file)"
   ]
  },
  {
   "cell_type": "code",
   "execution_count": 4,
   "metadata": {},
   "outputs": [],
   "source": [
    "def load_checkpoint(checkpoint_path):\n",
    "    if os.path.exists(checkpoint_path):\n",
    "        with open(checkpoint_path, 'r') as file:\n",
    "            return json.load(file)\n",
    "    return None"
   ]
  },
  {
   "cell_type": "code",
   "execution_count": 5,
   "metadata": {},
   "outputs": [
    {
     "name": "stdout",
     "output_type": "stream",
     "text": [
      "{'sequence': 'suddenlywestan country mentally ill terrorist whoever say different enabler ignorant blind endlesscountless war aggression death rate american terrorist act fuck american scum', 'labels': ['Severe Hate Speech', 'Mild Hate Speech', 'No Hate Speech'], 'scores': [0.6529615521430969, 0.18778380751609802, 0.15925461053848267]}\n",
      "suddenlywestan country mentally ill terrorist whoever say different enabler ignorant blind endlesscountless war aggression death rate american terrorist act fuck american scum\n",
      "['Severe Hate Speech', 'Mild Hate Speech', 'No Hate Speech']\n",
      "[0.6529615521430969, 0.18778380751609802, 0.15925461053848267]\n"
     ]
    }
   ],
   "source": [
    "classifier = transformers.pipeline(\"zero-shot-classification\", model=\"cross-encoder/nli-deberta-base\")\n",
    "\n",
    "text = \"suddenlywestan country mentally ill terrorist whoever say different enabler ignorant blind endlesscountless war aggression death rate american terrorist act fuck american scum\"\n",
    "labels = ['No Hate Speech', 'Mild Hate Speech', 'Severe Hate Speech']\n",
    "\n",
    "prediction = classifier(text, labels)\n",
    "\n",
    "print(prediction)\n",
    "print(prediction['sequence'])\n",
    "print(prediction['labels'])\n",
    "print(prediction['scores'])"
   ]
  },
  {
   "cell_type": "code",
   "execution_count": 6,
   "metadata": {},
   "outputs": [],
   "source": [
    "# Load the CSV file\n",
    "df = pd.read_csv('ucberkeley_measuring_hate_speech_dataset_testing.csv')"
   ]
  },
  {
   "cell_type": "code",
   "execution_count": 7,
   "metadata": {},
   "outputs": [],
   "source": [
    "checkpoint_path = 'deberta_sequential_checkpoint.json'\n",
    "checkpoint_data = load_checkpoint(checkpoint_path)"
   ]
  },
  {
   "cell_type": "code",
   "execution_count": 8,
   "metadata": {},
   "outputs": [],
   "source": [
    "# Define your labels\n",
    "labels = ['No Hate Speech', 'Mild Hate Speech', 'Severe Hate Speech']\n",
    "label_mapping = {'No Hate Speech': 0, 'Maybe Hate Speech': 1, 'Hate Speech': 2}"
   ]
  },
  {
   "cell_type": "code",
   "execution_count": 9,
   "metadata": {},
   "outputs": [],
   "source": [
    "# Function to classify text and convert to numerical label\n",
    "def classify_and_convert(text):\n",
    "    prediction = classifier(text, labels)\n",
    "    # Get the label with the highest score\n",
    "    predicted_label = prediction['labels'][0]\n",
    "    # Convert to numerical label\n",
    "    return label_mapping[predicted_label]"
   ]
  },
  {
   "cell_type": "code",
   "execution_count": 10,
   "metadata": {},
   "outputs": [],
   "source": [
    "# Function to process and save in batches\n",
    "def process_and_save_batch(df, start_index, batch_size, output_file_path):\n",
    "    end_index = min(start_index + batch_size, len(df))\n",
    "    df_slice = df[start_index:end_index]\n",
    "    df_slice['predicted_label'] = df_slice['text'].apply(classify_and_convert)\n",
    "    df_slice.to_csv(output_file_path.format(start_index), index=False)"
   ]
  },
  {
   "cell_type": "code",
   "execution_count": 11,
   "metadata": {},
   "outputs": [],
   "source": [
    "# Set batch size and output file path pattern\n",
    "batch_size = 10000\n",
    "output_file_path = 'deberta_sequential_output_csv_file_{}.csv'"
   ]
  },
  {
   "cell_type": "code",
   "execution_count": 12,
   "metadata": {},
   "outputs": [
    {
     "name": "stderr",
     "output_type": "stream",
     "text": [
      "C:\\Users\\Vrudant\\AppData\\Local\\Temp\\ipykernel_31204\\3947803962.py:5: SettingWithCopyWarning: \n",
      "A value is trying to be set on a copy of a slice from a DataFrame.\n",
      "Try using .loc[row_indexer,col_indexer] = value instead\n",
      "\n",
      "See the caveats in the documentation: https://pandas.pydata.org/pandas-docs/stable/user_guide/indexing.html#returning-a-view-versus-a-copy\n",
      "  df_slice['predicted_label'] = df_slice['text'].apply(classify_and_convert)\n"
     ]
    },
    {
     "name": "stdout",
     "output_type": "stream",
     "text": [
      "Checkpoint saved for batch starting at index 0\n"
     ]
    },
    {
     "name": "stderr",
     "output_type": "stream",
     "text": [
      "C:\\Users\\Vrudant\\AppData\\Local\\Temp\\ipykernel_31204\\3947803962.py:5: SettingWithCopyWarning: \n",
      "A value is trying to be set on a copy of a slice from a DataFrame.\n",
      "Try using .loc[row_indexer,col_indexer] = value instead\n",
      "\n",
      "See the caveats in the documentation: https://pandas.pydata.org/pandas-docs/stable/user_guide/indexing.html#returning-a-view-versus-a-copy\n",
      "  df_slice['predicted_label'] = df_slice['text'].apply(classify_and_convert)\n"
     ]
    },
    {
     "name": "stdout",
     "output_type": "stream",
     "text": [
      "Checkpoint saved for batch starting at index 10000\n"
     ]
    },
    {
     "name": "stderr",
     "output_type": "stream",
     "text": [
      "C:\\Users\\Vrudant\\AppData\\Local\\Temp\\ipykernel_31204\\3947803962.py:5: SettingWithCopyWarning: \n",
      "A value is trying to be set on a copy of a slice from a DataFrame.\n",
      "Try using .loc[row_indexer,col_indexer] = value instead\n",
      "\n",
      "See the caveats in the documentation: https://pandas.pydata.org/pandas-docs/stable/user_guide/indexing.html#returning-a-view-versus-a-copy\n",
      "  df_slice['predicted_label'] = df_slice['text'].apply(classify_and_convert)\n"
     ]
    },
    {
     "name": "stdout",
     "output_type": "stream",
     "text": [
      "Checkpoint saved for batch starting at index 20000\n"
     ]
    },
    {
     "name": "stderr",
     "output_type": "stream",
     "text": [
      "C:\\Users\\Vrudant\\AppData\\Local\\Temp\\ipykernel_31204\\3947803962.py:5: SettingWithCopyWarning: \n",
      "A value is trying to be set on a copy of a slice from a DataFrame.\n",
      "Try using .loc[row_indexer,col_indexer] = value instead\n",
      "\n",
      "See the caveats in the documentation: https://pandas.pydata.org/pandas-docs/stable/user_guide/indexing.html#returning-a-view-versus-a-copy\n",
      "  df_slice['predicted_label'] = df_slice['text'].apply(classify_and_convert)\n"
     ]
    },
    {
     "name": "stdout",
     "output_type": "stream",
     "text": [
      "Checkpoint saved for batch starting at index 30000\n"
     ]
    },
    {
     "name": "stderr",
     "output_type": "stream",
     "text": [
      "C:\\Users\\Vrudant\\AppData\\Local\\Temp\\ipykernel_31204\\3947803962.py:5: SettingWithCopyWarning: \n",
      "A value is trying to be set on a copy of a slice from a DataFrame.\n",
      "Try using .loc[row_indexer,col_indexer] = value instead\n",
      "\n",
      "See the caveats in the documentation: https://pandas.pydata.org/pandas-docs/stable/user_guide/indexing.html#returning-a-view-versus-a-copy\n",
      "  df_slice['predicted_label'] = df_slice['text'].apply(classify_and_convert)\n"
     ]
    },
    {
     "name": "stdout",
     "output_type": "stream",
     "text": [
      "Checkpoint saved for batch starting at index 40000\n"
     ]
    },
    {
     "name": "stderr",
     "output_type": "stream",
     "text": [
      "C:\\Users\\Vrudant\\AppData\\Local\\Temp\\ipykernel_31204\\3947803962.py:5: SettingWithCopyWarning: \n",
      "A value is trying to be set on a copy of a slice from a DataFrame.\n",
      "Try using .loc[row_indexer,col_indexer] = value instead\n",
      "\n",
      "See the caveats in the documentation: https://pandas.pydata.org/pandas-docs/stable/user_guide/indexing.html#returning-a-view-versus-a-copy\n",
      "  df_slice['predicted_label'] = df_slice['text'].apply(classify_and_convert)\n"
     ]
    },
    {
     "name": "stdout",
     "output_type": "stream",
     "text": [
      "Checkpoint saved for batch starting at index 50000\n"
     ]
    },
    {
     "name": "stderr",
     "output_type": "stream",
     "text": [
      "C:\\Users\\Vrudant\\AppData\\Local\\Temp\\ipykernel_31204\\3947803962.py:5: SettingWithCopyWarning: \n",
      "A value is trying to be set on a copy of a slice from a DataFrame.\n",
      "Try using .loc[row_indexer,col_indexer] = value instead\n",
      "\n",
      "See the caveats in the documentation: https://pandas.pydata.org/pandas-docs/stable/user_guide/indexing.html#returning-a-view-versus-a-copy\n",
      "  df_slice['predicted_label'] = df_slice['text'].apply(classify_and_convert)\n"
     ]
    },
    {
     "name": "stdout",
     "output_type": "stream",
     "text": [
      "Checkpoint saved for batch starting at index 60000\n"
     ]
    },
    {
     "name": "stderr",
     "output_type": "stream",
     "text": [
      "C:\\Users\\Vrudant\\AppData\\Local\\Temp\\ipykernel_31204\\3947803962.py:5: SettingWithCopyWarning: \n",
      "A value is trying to be set on a copy of a slice from a DataFrame.\n",
      "Try using .loc[row_indexer,col_indexer] = value instead\n",
      "\n",
      "See the caveats in the documentation: https://pandas.pydata.org/pandas-docs/stable/user_guide/indexing.html#returning-a-view-versus-a-copy\n",
      "  df_slice['predicted_label'] = df_slice['text'].apply(classify_and_convert)\n"
     ]
    },
    {
     "name": "stdout",
     "output_type": "stream",
     "text": [
      "Checkpoint saved for batch starting at index 70000\n"
     ]
    },
    {
     "name": "stderr",
     "output_type": "stream",
     "text": [
      "C:\\Users\\Vrudant\\AppData\\Local\\Temp\\ipykernel_31204\\3947803962.py:5: SettingWithCopyWarning: \n",
      "A value is trying to be set on a copy of a slice from a DataFrame.\n",
      "Try using .loc[row_indexer,col_indexer] = value instead\n",
      "\n",
      "See the caveats in the documentation: https://pandas.pydata.org/pandas-docs/stable/user_guide/indexing.html#returning-a-view-versus-a-copy\n",
      "  df_slice['predicted_label'] = df_slice['text'].apply(classify_and_convert)\n"
     ]
    },
    {
     "name": "stdout",
     "output_type": "stream",
     "text": [
      "Checkpoint saved for batch starting at index 80000\n"
     ]
    },
    {
     "name": "stderr",
     "output_type": "stream",
     "text": [
      "C:\\Users\\Vrudant\\AppData\\Local\\Temp\\ipykernel_31204\\3947803962.py:5: SettingWithCopyWarning: \n",
      "A value is trying to be set on a copy of a slice from a DataFrame.\n",
      "Try using .loc[row_indexer,col_indexer] = value instead\n",
      "\n",
      "See the caveats in the documentation: https://pandas.pydata.org/pandas-docs/stable/user_guide/indexing.html#returning-a-view-versus-a-copy\n",
      "  df_slice['predicted_label'] = df_slice['text'].apply(classify_and_convert)\n"
     ]
    },
    {
     "name": "stdout",
     "output_type": "stream",
     "text": [
      "Checkpoint saved for batch starting at index 90000\n"
     ]
    },
    {
     "name": "stderr",
     "output_type": "stream",
     "text": [
      "C:\\Users\\Vrudant\\AppData\\Local\\Temp\\ipykernel_31204\\3947803962.py:5: SettingWithCopyWarning: \n",
      "A value is trying to be set on a copy of a slice from a DataFrame.\n",
      "Try using .loc[row_indexer,col_indexer] = value instead\n",
      "\n",
      "See the caveats in the documentation: https://pandas.pydata.org/pandas-docs/stable/user_guide/indexing.html#returning-a-view-versus-a-copy\n",
      "  df_slice['predicted_label'] = df_slice['text'].apply(classify_and_convert)\n"
     ]
    },
    {
     "name": "stdout",
     "output_type": "stream",
     "text": [
      "Checkpoint saved for batch starting at index 100000\n"
     ]
    },
    {
     "name": "stderr",
     "output_type": "stream",
     "text": [
      "C:\\Users\\Vrudant\\AppData\\Local\\Temp\\ipykernel_31204\\3947803962.py:5: SettingWithCopyWarning: \n",
      "A value is trying to be set on a copy of a slice from a DataFrame.\n",
      "Try using .loc[row_indexer,col_indexer] = value instead\n",
      "\n",
      "See the caveats in the documentation: https://pandas.pydata.org/pandas-docs/stable/user_guide/indexing.html#returning-a-view-versus-a-copy\n",
      "  df_slice['predicted_label'] = df_slice['text'].apply(classify_and_convert)\n"
     ]
    },
    {
     "name": "stdout",
     "output_type": "stream",
     "text": [
      "Checkpoint saved for batch starting at index 110000\n"
     ]
    },
    {
     "name": "stderr",
     "output_type": "stream",
     "text": [
      "C:\\Users\\Vrudant\\AppData\\Local\\Temp\\ipykernel_31204\\3947803962.py:5: SettingWithCopyWarning: \n",
      "A value is trying to be set on a copy of a slice from a DataFrame.\n",
      "Try using .loc[row_indexer,col_indexer] = value instead\n",
      "\n",
      "See the caveats in the documentation: https://pandas.pydata.org/pandas-docs/stable/user_guide/indexing.html#returning-a-view-versus-a-copy\n",
      "  df_slice['predicted_label'] = df_slice['text'].apply(classify_and_convert)\n"
     ]
    },
    {
     "name": "stdout",
     "output_type": "stream",
     "text": [
      "Checkpoint saved for batch starting at index 120000\n",
      "Checkpoint saved for batch starting at index 130000\n"
     ]
    },
    {
     "name": "stderr",
     "output_type": "stream",
     "text": [
      "C:\\Users\\Vrudant\\AppData\\Local\\Temp\\ipykernel_31204\\3947803962.py:5: SettingWithCopyWarning: \n",
      "A value is trying to be set on a copy of a slice from a DataFrame.\n",
      "Try using .loc[row_indexer,col_indexer] = value instead\n",
      "\n",
      "See the caveats in the documentation: https://pandas.pydata.org/pandas-docs/stable/user_guide/indexing.html#returning-a-view-versus-a-copy\n",
      "  df_slice['predicted_label'] = df_slice['text'].apply(classify_and_convert)\n"
     ]
    }
   ],
   "source": [
    "for start_index in range(0, len(df), batch_size):\n",
    "    process_and_save_batch(df, start_index, batch_size, output_file_path)\n",
    "    print(f\"Checkpoint saved for batch starting at index {start_index}\")"
   ]
  },
  {
   "cell_type": "code",
   "execution_count": 13,
   "metadata": {},
   "outputs": [],
   "source": [
    "combined_df = pd.concat([pd.read_csv(output_file_path.format(i)) for i in range(0, len(df), batch_size)], ignore_index=True)\n",
    "combined_df.to_csv('final_combined_debert_sequential_output.csv', index=False)"
   ]
  },
  {
   "cell_type": "code",
   "execution_count": null,
   "metadata": {},
   "outputs": [],
   "source": []
  }
 ],
 "metadata": {
  "kernelspec": {
   "display_name": "tfgpu",
   "language": "python",
   "name": "python3"
  },
  "language_info": {
   "codemirror_mode": {
    "name": "ipython",
    "version": 3
   },
   "file_extension": ".py",
   "mimetype": "text/x-python",
   "name": "python",
   "nbconvert_exporter": "python",
   "pygments_lexer": "ipython3",
   "version": "3.10.13"
  }
 },
 "nbformat": 4,
 "nbformat_minor": 2
}
