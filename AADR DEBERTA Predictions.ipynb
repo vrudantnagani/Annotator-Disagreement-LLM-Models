{
 "cells": [
  {
   "cell_type": "code",
   "execution_count": 1,
   "metadata": {},
   "outputs": [],
   "source": [
    "import pandas as pd\n",
    "import numpy as np\n",
    "import warnings\n",
    "warnings.filterwarnings('ignore')"
   ]
  },
  {
   "cell_type": "code",
   "execution_count": 2,
   "metadata": {},
   "outputs": [],
   "source": [
    "df = pd.read_csv('deberta_final_predictions_preprocessed.csv')\n",
    "\n",
    "# List of target race categories\n",
    "target_race_categories = ['race_asian', 'race_black', 'race_latinx', 'race_middle_eastern', 'race_native_american', 'race_pacific_islander', 'race_white', 'race_other', 'race']\n",
    "\n",
    "# List of target religion categories\n",
    "target_religion_categories = ['religion_atheist', 'religion_buddhist', 'religion_christian', 'religion_hindu', 'religion_jewish', 'religion_mormon', 'religion_muslim', 'religion_other', 'religion']\n",
    "\n",
    "# List of target origin categories\n",
    "target_origin_categories = ['origin_immigrant', 'origin_migrant_worker', 'origin_specific_country', 'origin_undocumented', 'origin_other', 'origin']\n",
    "\n",
    "# List of target gender categories\n",
    "target_gender_categories = ['gender_men', 'gender_women', 'gender_transgender_men', 'gender_transgender_women', 'gender_other', 'gender_transgender_unspecified', 'gender_non_binary', 'gender']\n",
    "\n",
    "# List of target sexuality categories\n",
    "target_sexuality_categories = ['sexuality_bisexual', 'sexuality_gay', 'sexuality_lesbian', 'sexuality_straight', 'sexuality_other', 'sexuality']\n",
    "\n",
    "# List of target age categories\n",
    "target_age_categories = ['age_children', 'age_teenagers', 'age_young_adults', 'age_middle_aged', 'age_seniors', 'age_other', 'age']\n",
    "\n",
    "# List of target disability categories\n",
    "target_disability_categories = ['disability_physical', 'disability_cognitive', 'disability_neurological', 'disability_visually_impaired', 'disability_hearing_impaired', 'disability_unspecific', 'disability_other', 'disability']"
   ]
  },
  {
   "cell_type": "code",
   "execution_count": 3,
   "metadata": {},
   "outputs": [],
   "source": [
    "# Create an empty dictionary to store hate speech scores for each category\n",
    "race_hsscore_dict = {category: [] for category in target_race_categories}\n",
    "\n",
    "race_hsscore_dict_ann_men = {category: [] for category in target_race_categories}\n",
    "\n",
    "race_hsscore_dict_ann_women = {category: [] for category in target_race_categories}\n",
    "\n",
    "religion_hsscore_dict = {category: [] for category in target_religion_categories}\n",
    "\n",
    "origin_hsscore_dict = {category: [] for category in target_origin_categories}\n",
    "\n",
    "gender_hsscore_dict = {category: [] for category in target_gender_categories}\n",
    "\n",
    "sexuality_hsscore_dict = {category: [] for category in target_sexuality_categories}\n",
    "\n",
    "age_hsscore_dict = {category: [] for category in target_age_categories}\n",
    "\n",
    "disability_hsscore_dict = {category: [] for category in target_disability_categories}"
   ]
  },
  {
   "cell_type": "code",
   "execution_count": 5,
   "metadata": {},
   "outputs": [],
   "source": [
    "# Iterate through rows and populate the hate speech lists for each category\n",
    "for index, row in df.iterrows():\n",
    "    for category in race_hsscore_dict:\n",
    "        # Assuming 'target_race_category_column_name' is the one-hot encoded column for target gender\n",
    "        if row['target_' + category] == True:\n",
    "            # Assuming 'hatespeech' is the column storing hate speech scores\n",
    "            race_hsscore_dict[category].append(row['hatespeech'])"
   ]
  },
  {
   "cell_type": "code",
   "execution_count": 6,
   "metadata": {},
   "outputs": [],
   "source": [
    "df_men = df[df['annotator_gender_men'] == True].copy()\n",
    "df_women = df[df['annotator_gender_women'] == True].copy()"
   ]
  },
  {
   "cell_type": "code",
   "execution_count": 7,
   "metadata": {},
   "outputs": [],
   "source": [
    "# Iterate through rows and populate the hate speech lists for each category\n",
    "for index, row in df_men.iterrows():\n",
    "    for category in race_hsscore_dict_ann_men:\n",
    "        # Assuming 'target_race_category_column_name' is the one-hot encoded column for target gender\n",
    "        if row['target_' + category] == True:\n",
    "            # Assuming 'hatespeech' is the column storing hate speech scores\n",
    "            race_hsscore_dict_ann_men[category].append(row['hatespeech'])"
   ]
  },
  {
   "cell_type": "code",
   "execution_count": 8,
   "metadata": {},
   "outputs": [],
   "source": [
    "# Iterate through rows and populate the hate speech lists for each category\n",
    "for index, row in df_women.iterrows():\n",
    "    for category in race_hsscore_dict_ann_women:\n",
    "        # Assuming 'target_race_category_column_name' is the one-hot encoded column for target gender\n",
    "        if row['target_' + category] == True:\n",
    "            # Assuming 'hatespeech' is the column storing hate speech scores\n",
    "            race_hsscore_dict_ann_women[category].append(row['hatespeech'])"
   ]
  },
  {
   "cell_type": "code",
   "execution_count": null,
   "metadata": {},
   "outputs": [],
   "source": []
  },
  {
   "cell_type": "code",
   "execution_count": 9,
   "metadata": {},
   "outputs": [
    {
     "ename": "KeyError",
     "evalue": "'target_religion_atheist'",
     "output_type": "error",
     "traceback": [
      "\u001b[1;31m---------------------------------------------------------------------------\u001b[0m",
      "\u001b[1;31mKeyError\u001b[0m                                  Traceback (most recent call last)",
      "File \u001b[1;32mc:\\Users\\Vrudant\\.conda\\envs\\tfgpu\\lib\\site-packages\\pandas\\core\\indexes\\base.py:3790\u001b[0m, in \u001b[0;36mIndex.get_loc\u001b[1;34m(self, key)\u001b[0m\n\u001b[0;32m   3789\u001b[0m \u001b[38;5;28;01mtry\u001b[39;00m:\n\u001b[1;32m-> 3790\u001b[0m     \u001b[38;5;28;01mreturn\u001b[39;00m \u001b[38;5;28;43mself\u001b[39;49m\u001b[38;5;241;43m.\u001b[39;49m\u001b[43m_engine\u001b[49m\u001b[38;5;241;43m.\u001b[39;49m\u001b[43mget_loc\u001b[49m\u001b[43m(\u001b[49m\u001b[43mcasted_key\u001b[49m\u001b[43m)\u001b[49m\n\u001b[0;32m   3791\u001b[0m \u001b[38;5;28;01mexcept\u001b[39;00m \u001b[38;5;167;01mKeyError\u001b[39;00m \u001b[38;5;28;01mas\u001b[39;00m err:\n",
      "File \u001b[1;32mindex.pyx:152\u001b[0m, in \u001b[0;36mpandas._libs.index.IndexEngine.get_loc\u001b[1;34m()\u001b[0m\n",
      "File \u001b[1;32mindex.pyx:181\u001b[0m, in \u001b[0;36mpandas._libs.index.IndexEngine.get_loc\u001b[1;34m()\u001b[0m\n",
      "File \u001b[1;32mpandas\\_libs\\hashtable_class_helper.pxi:7080\u001b[0m, in \u001b[0;36mpandas._libs.hashtable.PyObjectHashTable.get_item\u001b[1;34m()\u001b[0m\n",
      "File \u001b[1;32mpandas\\_libs\\hashtable_class_helper.pxi:7088\u001b[0m, in \u001b[0;36mpandas._libs.hashtable.PyObjectHashTable.get_item\u001b[1;34m()\u001b[0m\n",
      "\u001b[1;31mKeyError\u001b[0m: 'target_religion_atheist'",
      "\nThe above exception was the direct cause of the following exception:\n",
      "\u001b[1;31mKeyError\u001b[0m                                  Traceback (most recent call last)",
      "Cell \u001b[1;32mIn[9], line 5\u001b[0m\n\u001b[0;32m      2\u001b[0m \u001b[38;5;28;01mfor\u001b[39;00m index, row \u001b[38;5;129;01min\u001b[39;00m df\u001b[38;5;241m.\u001b[39miterrows():\n\u001b[0;32m      3\u001b[0m     \u001b[38;5;28;01mfor\u001b[39;00m category \u001b[38;5;129;01min\u001b[39;00m religion_hsscore_dict:\n\u001b[0;32m      4\u001b[0m         \u001b[38;5;66;03m# Assuming 'target_religion_category_column_name' is the one-hot encoded column for target gender\u001b[39;00m\n\u001b[1;32m----> 5\u001b[0m         \u001b[38;5;28;01mif\u001b[39;00m \u001b[43mrow\u001b[49m\u001b[43m[\u001b[49m\u001b[38;5;124;43m'\u001b[39;49m\u001b[38;5;124;43mtarget_\u001b[39;49m\u001b[38;5;124;43m'\u001b[39;49m\u001b[43m \u001b[49m\u001b[38;5;241;43m+\u001b[39;49m\u001b[43m \u001b[49m\u001b[43mcategory\u001b[49m\u001b[43m]\u001b[49m \u001b[38;5;241m==\u001b[39m \u001b[38;5;28;01mTrue\u001b[39;00m:\n\u001b[0;32m      6\u001b[0m             \u001b[38;5;66;03m# Assuming 'hatespeech' is the column storing hate speech scores\u001b[39;00m\n\u001b[0;32m      7\u001b[0m             religion_hsscore_dict[category]\u001b[38;5;241m.\u001b[39mappend(row[\u001b[38;5;124m'\u001b[39m\u001b[38;5;124mhatespeech\u001b[39m\u001b[38;5;124m'\u001b[39m])\n",
      "File \u001b[1;32mc:\\Users\\Vrudant\\.conda\\envs\\tfgpu\\lib\\site-packages\\pandas\\core\\series.py:1040\u001b[0m, in \u001b[0;36mSeries.__getitem__\u001b[1;34m(self, key)\u001b[0m\n\u001b[0;32m   1037\u001b[0m     \u001b[38;5;28;01mreturn\u001b[39;00m \u001b[38;5;28mself\u001b[39m\u001b[38;5;241m.\u001b[39m_values[key]\n\u001b[0;32m   1039\u001b[0m \u001b[38;5;28;01melif\u001b[39;00m key_is_scalar:\n\u001b[1;32m-> 1040\u001b[0m     \u001b[38;5;28;01mreturn\u001b[39;00m \u001b[38;5;28;43mself\u001b[39;49m\u001b[38;5;241;43m.\u001b[39;49m\u001b[43m_get_value\u001b[49m\u001b[43m(\u001b[49m\u001b[43mkey\u001b[49m\u001b[43m)\u001b[49m\n\u001b[0;32m   1042\u001b[0m \u001b[38;5;66;03m# Convert generator to list before going through hashable part\u001b[39;00m\n\u001b[0;32m   1043\u001b[0m \u001b[38;5;66;03m# (We will iterate through the generator there to check for slices)\u001b[39;00m\n\u001b[0;32m   1044\u001b[0m \u001b[38;5;28;01mif\u001b[39;00m is_iterator(key):\n",
      "File \u001b[1;32mc:\\Users\\Vrudant\\.conda\\envs\\tfgpu\\lib\\site-packages\\pandas\\core\\series.py:1156\u001b[0m, in \u001b[0;36mSeries._get_value\u001b[1;34m(self, label, takeable)\u001b[0m\n\u001b[0;32m   1153\u001b[0m     \u001b[38;5;28;01mreturn\u001b[39;00m \u001b[38;5;28mself\u001b[39m\u001b[38;5;241m.\u001b[39m_values[label]\n\u001b[0;32m   1155\u001b[0m \u001b[38;5;66;03m# Similar to Index.get_value, but we do not fall back to positional\u001b[39;00m\n\u001b[1;32m-> 1156\u001b[0m loc \u001b[38;5;241m=\u001b[39m \u001b[38;5;28;43mself\u001b[39;49m\u001b[38;5;241;43m.\u001b[39;49m\u001b[43mindex\u001b[49m\u001b[38;5;241;43m.\u001b[39;49m\u001b[43mget_loc\u001b[49m\u001b[43m(\u001b[49m\u001b[43mlabel\u001b[49m\u001b[43m)\u001b[49m\n\u001b[0;32m   1158\u001b[0m \u001b[38;5;28;01mif\u001b[39;00m is_integer(loc):\n\u001b[0;32m   1159\u001b[0m     \u001b[38;5;28;01mreturn\u001b[39;00m \u001b[38;5;28mself\u001b[39m\u001b[38;5;241m.\u001b[39m_values[loc]\n",
      "File \u001b[1;32mc:\\Users\\Vrudant\\.conda\\envs\\tfgpu\\lib\\site-packages\\pandas\\core\\indexes\\base.py:3797\u001b[0m, in \u001b[0;36mIndex.get_loc\u001b[1;34m(self, key)\u001b[0m\n\u001b[0;32m   3792\u001b[0m     \u001b[38;5;28;01mif\u001b[39;00m \u001b[38;5;28misinstance\u001b[39m(casted_key, \u001b[38;5;28mslice\u001b[39m) \u001b[38;5;129;01mor\u001b[39;00m (\n\u001b[0;32m   3793\u001b[0m         \u001b[38;5;28misinstance\u001b[39m(casted_key, abc\u001b[38;5;241m.\u001b[39mIterable)\n\u001b[0;32m   3794\u001b[0m         \u001b[38;5;129;01mand\u001b[39;00m \u001b[38;5;28many\u001b[39m(\u001b[38;5;28misinstance\u001b[39m(x, \u001b[38;5;28mslice\u001b[39m) \u001b[38;5;28;01mfor\u001b[39;00m x \u001b[38;5;129;01min\u001b[39;00m casted_key)\n\u001b[0;32m   3795\u001b[0m     ):\n\u001b[0;32m   3796\u001b[0m         \u001b[38;5;28;01mraise\u001b[39;00m InvalidIndexError(key)\n\u001b[1;32m-> 3797\u001b[0m     \u001b[38;5;28;01mraise\u001b[39;00m \u001b[38;5;167;01mKeyError\u001b[39;00m(key) \u001b[38;5;28;01mfrom\u001b[39;00m \u001b[38;5;21;01merr\u001b[39;00m\n\u001b[0;32m   3798\u001b[0m \u001b[38;5;28;01mexcept\u001b[39;00m \u001b[38;5;167;01mTypeError\u001b[39;00m:\n\u001b[0;32m   3799\u001b[0m     \u001b[38;5;66;03m# If we have a listlike key, _check_indexing_error will raise\u001b[39;00m\n\u001b[0;32m   3800\u001b[0m     \u001b[38;5;66;03m#  InvalidIndexError. Otherwise we fall through and re-raise\u001b[39;00m\n\u001b[0;32m   3801\u001b[0m     \u001b[38;5;66;03m#  the TypeError.\u001b[39;00m\n\u001b[0;32m   3802\u001b[0m     \u001b[38;5;28mself\u001b[39m\u001b[38;5;241m.\u001b[39m_check_indexing_error(key)\n",
      "\u001b[1;31mKeyError\u001b[0m: 'target_religion_atheist'"
     ]
    }
   ],
   "source": [
    "# Iterate through rows and populate the hate speech lists for each category\n",
    "for index, row in df.iterrows():\n",
    "    for category in religion_hsscore_dict:\n",
    "        # Assuming 'target_religion_category_column_name' is the one-hot encoded column for target gender\n",
    "        if row['target_' + category] == True:\n",
    "            # Assuming 'hatespeech' is the column storing hate speech scores\n",
    "            religion_hsscore_dict[category].append(row['hatespeech'])"
   ]
  },
  {
   "cell_type": "code",
   "execution_count": null,
   "metadata": {},
   "outputs": [],
   "source": [
    "# Iterate through rows and populate the hate speech lists for each category\n",
    "for index, row in df.iterrows():\n",
    "    for category in origin_hsscore_dict:\n",
    "        # Assuming 'target_origin_category_column_name' is the one-hot encoded column for target gender\n",
    "        if row['target_' + category] == True:\n",
    "            # Assuming 'hatespeech' is the column storing hate speech scores\n",
    "            origin_hsscore_dict[category].append(row['hatespeech'])"
   ]
  },
  {
   "cell_type": "code",
   "execution_count": null,
   "metadata": {},
   "outputs": [],
   "source": [
    "# Iterate through rows and populate the hate speech lists for each category\n",
    "for index, row in df.iterrows():\n",
    "    for category in gender_hsscore_dict:\n",
    "        # Assuming 'target_gender_category_column_name' is the one-hot encoded column for target gender\n",
    "        if row['target_' + category] == True:\n",
    "            # Assuming 'hatespeech' is the column storing hate speech scores\n",
    "            gender_hsscore_dict[category].append(row['hatespeech'])"
   ]
  },
  {
   "cell_type": "code",
   "execution_count": null,
   "metadata": {},
   "outputs": [],
   "source": [
    "# Iterate through rows and populate the hate speech lists for each category\n",
    "for index, row in df.iterrows():\n",
    "    for category in sexuality_hsscore_dict:\n",
    "        # Assuming 'target_sexuality_category_column_name' is the one-hot encoded column for target sexuality\n",
    "        if row['target_' + category] == True:\n",
    "            # Assuming 'hatespeech' is the column storing hate speech scores\n",
    "            sexuality_hsscore_dict[category].append(row['hatespeech'])"
   ]
  },
  {
   "cell_type": "code",
   "execution_count": null,
   "metadata": {},
   "outputs": [],
   "source": [
    "# Iterate through rows and populate the hate speech lists for each category\n",
    "for index, row in df.iterrows():\n",
    "    for category in age_hsscore_dict:\n",
    "        # Assuming 'target_age_category_column_name' is the one-hot encoded column for target gender\n",
    "        if row['target_' + category] == True:\n",
    "            # Assuming 'hatespeech' is the column storing hate speech scores\n",
    "            age_hsscore_dict[category].append(row['hatespeech'])"
   ]
  },
  {
   "cell_type": "code",
   "execution_count": null,
   "metadata": {},
   "outputs": [],
   "source": [
    "# Iterate through rows and populate the hate speech lists for each category\n",
    "for index, row in df.iterrows():\n",
    "    for category in disability_hsscore_dict:\n",
    "        # Assuming 'target_disability_category_column_name' is the one-hot encoded column for target gender\n",
    "        if row['target_' + category] == True:\n",
    "            # Assuming 'hatespeech' is the column storing hate speech scores\n",
    "            disability_hsscore_dict[category].append(row['hatespeech'])"
   ]
  },
  {
   "cell_type": "code",
   "execution_count": null,
   "metadata": {},
   "outputs": [],
   "source": [
    "# Print or use the lists as needed\n",
    "print(\"Target Race:\\n\")\n",
    "for category, scores in race_hsscore_dict.items():\n",
    "    print(f\"{category}: {scores}\")"
   ]
  },
  {
   "cell_type": "code",
   "execution_count": null,
   "metadata": {},
   "outputs": [],
   "source": [
    "# Print or use the lists as needed\n",
    "print(\"Target Religion:\\n\")\n",
    "for category, scores in religion_hsscore_dict.items():\n",
    "    print(f\"{category}: {scores}\")"
   ]
  },
  {
   "cell_type": "code",
   "execution_count": null,
   "metadata": {},
   "outputs": [],
   "source": [
    "# Print or use the lists as needed\n",
    "print(\"Target Origin:\\n\")\n",
    "for category, scores in origin_hsscore_dict.items():\n",
    "    print(f\"{category}: {scores}\")"
   ]
  },
  {
   "cell_type": "code",
   "execution_count": null,
   "metadata": {},
   "outputs": [],
   "source": [
    "# Print or use the lists as needed\n",
    "print(\"Target Gender:\\n\")\n",
    "for category, scores in gender_hsscore_dict.items():\n",
    "    print(f\"{category}: {scores}\")\n"
   ]
  },
  {
   "cell_type": "code",
   "execution_count": null,
   "metadata": {},
   "outputs": [],
   "source": [
    "# Print or use the lists as needed\n",
    "print(\"Target Sexuality:\\n\")\n",
    "for category, scores in sexuality_hsscore_dict.items():\n",
    "    print(f\"{category}: {scores}\")"
   ]
  },
  {
   "cell_type": "code",
   "execution_count": null,
   "metadata": {},
   "outputs": [],
   "source": [
    "# Print or use the lists as needed\n",
    "print(\"Target Age:\\n\")\n",
    "for category, scores in age_hsscore_dict.items():\n",
    "    print(f\"{category}: {scores}\")"
   ]
  },
  {
   "cell_type": "code",
   "execution_count": null,
   "metadata": {},
   "outputs": [],
   "source": [
    "# Print or use the lists as needed\n",
    "print(\"Target Disability:\\n\")\n",
    "for category, scores in disability_hsscore_dict.items():\n",
    "    print(f\"{category}: {scores}\")"
   ]
  },
  {
   "cell_type": "code",
   "execution_count": null,
   "metadata": {},
   "outputs": [],
   "source": []
  },
  {
   "cell_type": "code",
   "execution_count": 10,
   "metadata": {},
   "outputs": [],
   "source": [
    "def calculate_aadr(categories_dict):\n",
    "    \"\"\"\n",
    "    Calculate Average Agreement Deviation Rate (AADR) for each category in the provided dictionary.\n",
    "\n",
    "    Parameters:\n",
    "    - categories_dict: dict, a dictionary where keys are category names and values are lists of hatespeech scores\n",
    "\n",
    "    Returns:\n",
    "    - results: dict, a dictionary containing calculated AADR for each category\n",
    "    \"\"\"\n",
    "\n",
    "    results = {}\n",
    "\n",
    "    for category, hatespeech_scores in categories_dict.items():\n",
    "        # Calculate disagreement rate for each category\n",
    "        disagreement_rate = 1 - (hatespeech_scores.count(max(set(hatespeech_scores), key=hatespeech_scores.count)) / len(hatespeech_scores))\n",
    "\n",
    "        # Store the AADR for the category\n",
    "        results[category] = disagreement_rate\n",
    "\n",
    "    return results"
   ]
  },
  {
   "cell_type": "code",
   "execution_count": 11,
   "metadata": {},
   "outputs": [
    {
     "name": "stdout",
     "output_type": "stream",
     "text": [
      "AADR for Target Race:\n",
      "\n",
      "{'race_asian': 0.4706469079509832, 'race_black': 0.5700607703405762, 'race_latinx': 0.5237983034872762, 'race_middle_eastern': 0.4293432203389831, 'race_native_american': 0.5561079545454546, 'race_pacific_islander': 0.5551782682512734, 'race_white': 0.49770009199632015, 'race_other': 0.4608786610878661, 'race': 0.4873939143034568}\n",
      "\n",
      "Highest Disagreement (Lowest AADR): race_black - AADR: 0.5700607703405762\n",
      "\n",
      "Lowest Disagreement (Highest AADR): race_middle_eastern - AADR: 0.4293432203389831\n"
     ]
    }
   ],
   "source": [
    "race_aadr_result_dict = calculate_aadr(race_hsscore_dict)\n",
    "print(\"AADR for Target Race:\\n\")\n",
    "print(race_aadr_result_dict)\n",
    "\n",
    "# Find the category with the highest and lowest AADR\n",
    "max_category = max(race_aadr_result_dict, key=race_aadr_result_dict.get)\n",
    "min_category = min(race_aadr_result_dict, key=race_aadr_result_dict.get)\n",
    "\n",
    "# Print the results\n",
    "print(f\"\\nHighest Disagreement (Lowest AADR): {max_category} - AADR: {race_aadr_result_dict[max_category]}\")\n",
    "print(f\"\\nLowest Disagreement (Highest AADR): {min_category} - AADR: {race_aadr_result_dict[min_category]}\")"
   ]
  },
  {
   "cell_type": "code",
   "execution_count": 12,
   "metadata": {},
   "outputs": [
    {
     "name": "stdout",
     "output_type": "stream",
     "text": [
      "AADR for Target Race and Annotator Gender Men:\n",
      "\n",
      "{'race_asian': 0.46106766405984356, 'race_black': 0.574468085106383, 'race_latinx': 0.5193732193732195, 'race_middle_eastern': 0.42405235887646575, 'race_native_american': 0.5467372134038802, 'race_pacific_islander': 0.5535900104058273, 'race_white': 0.49619071024821826, 'race_other': 0.4610778443113772, 'race': 0.4890032284100081}\n",
      "\n",
      "Highest Disagreement (Lowest AADR): race_black - AADR: 0.574468085106383\n",
      "\n",
      "Lowest Disagreement (Highest AADR): race_middle_eastern - AADR: 0.42405235887646575\n"
     ]
    }
   ],
   "source": [
    "race_ann_men_aadr_result_dict = calculate_aadr(race_hsscore_dict_ann_men)\n",
    "print(\"AADR for Target Race and Annotator Gender Men:\\n\")\n",
    "print(race_ann_men_aadr_result_dict)\n",
    "\n",
    "# Find the category with the highest and lowest AADR\n",
    "max_category = max(race_ann_men_aadr_result_dict, key=race_ann_men_aadr_result_dict.get)\n",
    "min_category = min(race_ann_men_aadr_result_dict, key=race_ann_men_aadr_result_dict.get)\n",
    "\n",
    "# Print the results\n",
    "print(f\"\\nHighest Disagreement (Lowest AADR): {max_category} - AADR: {race_ann_men_aadr_result_dict[max_category]}\")\n",
    "print(f\"\\nLowest Disagreement (Highest AADR): {min_category} - AADR: {race_ann_men_aadr_result_dict[min_category]}\")"
   ]
  },
  {
   "cell_type": "code",
   "execution_count": 13,
   "metadata": {},
   "outputs": [
    {
     "name": "stdout",
     "output_type": "stream",
     "text": [
      "AADR for Target Race and Annotator Gender Women:\n",
      "\n",
      "{'race_asian': 0.47778899545683995, 'race_black': 0.5664889565879665, 'race_latinx': 0.5254411161263849, 'race_middle_eastern': 0.43223637650389246, 'race_native_american': 0.5612431444241317, 'race_pacific_islander': 0.5551443375277572, 'race_white': 0.500089015488695, 'race_other': 0.4627696590118302, 'race': 0.4865242134650488}\n",
      "\n",
      "Highest Disagreement (Lowest AADR): race_black - AADR: 0.5664889565879665\n",
      "\n",
      "Lowest Disagreement (Highest AADR): race_middle_eastern - AADR: 0.43223637650389246\n"
     ]
    }
   ],
   "source": [
    "race_ann_women_aadr_result_dict = calculate_aadr(race_hsscore_dict_ann_women)\n",
    "print(\"AADR for Target Race and Annotator Gender Women:\\n\")\n",
    "print(race_ann_women_aadr_result_dict)\n",
    "\n",
    "# Find the category with the highest and lowest AADR\n",
    "max_category = max(race_ann_women_aadr_result_dict, key=race_ann_women_aadr_result_dict.get)\n",
    "min_category = min(race_ann_women_aadr_result_dict, key=race_ann_women_aadr_result_dict.get)\n",
    "\n",
    "# Print the results\n",
    "print(f\"\\nHighest Disagreement (Lowest AADR): {max_category} - AADR: {race_ann_women_aadr_result_dict[max_category]}\")\n",
    "print(f\"\\nLowest Disagreement (Highest AADR): {min_category} - AADR: {race_ann_women_aadr_result_dict[min_category]}\")"
   ]
  },
  {
   "cell_type": "code",
   "execution_count": null,
   "metadata": {},
   "outputs": [],
   "source": []
  },
  {
   "cell_type": "code",
   "execution_count": null,
   "metadata": {},
   "outputs": [],
   "source": [
    "religion_aadr_result_dict = calculate_aadr(religion_hsscore_dict)\n",
    "print(\"AADR for Target Religion:\\n\")\n",
    "print(religion_aadr_result_dict)\n",
    "\n",
    "# Find the category with the highest and lowest AADR\n",
    "max_category = max(religion_aadr_result_dict, key=religion_aadr_result_dict.get)\n",
    "min_category = min(religion_aadr_result_dict, key=religion_aadr_result_dict.get)\n",
    "\n",
    "# Print the results\n",
    "print(f\"\\nHighest Disagreement (Lowest AADR): {max_category} - AADR: {religion_aadr_result_dict[max_category]}\")\n",
    "print(f\"\\nLowest Disagreement (Highest AADR): {min_category} - AADR: {religion_aadr_result_dict[min_category]}\")"
   ]
  },
  {
   "cell_type": "code",
   "execution_count": null,
   "metadata": {},
   "outputs": [],
   "source": [
    "origin_aadr_result_dict = calculate_aadr(origin_hsscore_dict)\n",
    "print(\"AADR for Target Origin:\\n\")\n",
    "print(origin_aadr_result_dict)\n",
    "\n",
    "# Find the category with the highest and lowest AADR\n",
    "max_category = max(origin_aadr_result_dict, key=origin_aadr_result_dict.get)\n",
    "min_category = min(origin_aadr_result_dict, key=origin_aadr_result_dict.get)\n",
    "\n",
    "# Print the results\n",
    "print(f\"\\nHighest Disagreement (Lowest AADR): {max_category} - AADR: {origin_aadr_result_dict[max_category]}\")\n",
    "print(f\"\\nLowest Disagreement (Highest AADR): {min_category} - AADR: {origin_aadr_result_dict[min_category]}\")"
   ]
  },
  {
   "cell_type": "code",
   "execution_count": null,
   "metadata": {},
   "outputs": [],
   "source": [
    "gender_aadr_result_dict = calculate_aadr(gender_hsscore_dict)\n",
    "print(\"AADR for Target Gender:\\n\")\n",
    "print(gender_aadr_result_dict)\n",
    "\n",
    "# Find the category with the highest and lowest AADR\n",
    "max_category = max(gender_aadr_result_dict, key=gender_aadr_result_dict.get)\n",
    "min_category = min(gender_aadr_result_dict, key=gender_aadr_result_dict.get)\n",
    "\n",
    "# Print the results\n",
    "print(f\"\\nHighest Disagreement (Lowest AADR): {max_category} - AADR: {gender_aadr_result_dict[max_category]}\")\n",
    "print(f\"\\nLowest Disagreement (Highest AADR): {min_category} - AADR: {gender_aadr_result_dict[min_category]}\")"
   ]
  },
  {
   "cell_type": "code",
   "execution_count": null,
   "metadata": {},
   "outputs": [],
   "source": [
    "sexuality_aadr_result_dict = calculate_aadr(sexuality_hsscore_dict)\n",
    "print(\"AADR for Target Sexuality:\\n\")\n",
    "print(sexuality_aadr_result_dict)\n",
    "\n",
    "# Find the category with the highest and lowest AADR\n",
    "max_category = max(sexuality_aadr_result_dict, key=sexuality_aadr_result_dict.get)\n",
    "min_category = min(sexuality_aadr_result_dict, key=sexuality_aadr_result_dict.get)\n",
    "\n",
    "# Print the results\n",
    "print(f\"\\nHighest Disagreement (Lowest AADR): {max_category} - AADR: {sexuality_aadr_result_dict[max_category]}\")\n",
    "print(f\"\\nLowest Disagreement (Highest AADR): {min_category} - AADR: {sexuality_aadr_result_dict[min_category]}\")"
   ]
  },
  {
   "cell_type": "code",
   "execution_count": null,
   "metadata": {},
   "outputs": [],
   "source": [
    "age_aadr_result_dict = calculate_aadr(age_hsscore_dict)\n",
    "print(\"AADR for Target Age:\\n\")\n",
    "print(age_aadr_result_dict)\n",
    "\n",
    "# Find the category with the highest and lowest AADR\n",
    "max_category = max(age_aadr_result_dict, key=age_aadr_result_dict.get)\n",
    "min_category = min(age_aadr_result_dict, key=age_aadr_result_dict.get)\n",
    "\n",
    "# Print the results\n",
    "print(f\"\\nHighest Disagreement (Lowest AADR): {max_category} - AADR: {age_aadr_result_dict[max_category]}\")\n",
    "print(f\"\\nLowest Disagreement (Highest AADR): {min_category} - AADR: {age_aadr_result_dict[min_category]}\")"
   ]
  },
  {
   "cell_type": "code",
   "execution_count": null,
   "metadata": {},
   "outputs": [],
   "source": [
    "disability_aadr_result_dict = calculate_aadr(disability_hsscore_dict)\n",
    "print(\"AADR for Target Disability:\\n\")\n",
    "print(disability_aadr_result_dict)\n",
    "\n",
    "# Find the category with the highest and lowest AADR\n",
    "max_category = max(disability_aadr_result_dict, key=disability_aadr_result_dict.get)\n",
    "min_category = min(disability_aadr_result_dict, key=disability_aadr_result_dict.get)\n",
    "\n",
    "# Print the results\n",
    "print(f\"\\nHighest Disagreement (Lowest AADR): {max_category} - AADR: {disability_aadr_result_dict[max_category]}\")\n",
    "print(f\"\\nLowest Disagreement (Highest AADR): {min_category} - AADR: {disability_aadr_result_dict[min_category]}\")"
   ]
  }
 ],
 "metadata": {
  "kernelspec": {
   "display_name": "tfgpu",
   "language": "python",
   "name": "python3"
  },
  "language_info": {
   "codemirror_mode": {
    "name": "ipython",
    "version": 3
   },
   "file_extension": ".py",
   "mimetype": "text/x-python",
   "name": "python",
   "nbconvert_exporter": "python",
   "pygments_lexer": "ipython3",
   "version": "3.10.13"
  }
 },
 "nbformat": 4,
 "nbformat_minor": 2
}
