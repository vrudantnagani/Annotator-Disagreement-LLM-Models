{
 "cells": [
  {
   "cell_type": "code",
   "execution_count": null,
   "metadata": {},
   "outputs": [],
   "source": [
    "import pandas as pd\n",
    "\n",
    "# Assuming 'your_dataset.csv' is the name of your CSV file\n",
    "df = pd.read_csv('ucberkeley_measuring_hate_speech_dataset_preprocessed.csv')"
   ]
  },
  {
   "cell_type": "code",
   "execution_count": null,
   "metadata": {},
   "outputs": [],
   "source": [
    "new_df = df.iloc[:, :22].copy()"
   ]
  },
  {
   "cell_type": "code",
   "execution_count": null,
   "metadata": {},
   "outputs": [],
   "source": [
    "drop_clms = ['platform', 'sentiment', 'respect', 'insult', 'humiliate', 'status', 'dehumanize', 'violence', 'genocide', 'attack_defend', 'hate_speech_score', 'std_err', 'infitms', \n",
    "             'outfitms', 'annotator_severity', 'annotator_infitms' , 'annotator_outfitms', 'hypothesis']\n",
    "\n",
    "new_df.drop(columns = drop_clms, axis=1, inplace=True)"
   ]
  },
  {
   "cell_type": "code",
   "execution_count": null,
   "metadata": {},
   "outputs": [],
   "source": [
    "new_df"
   ]
  },
  {
   "cell_type": "code",
   "execution_count": null,
   "metadata": {},
   "outputs": [],
   "source": [
    "new_df['annotator_gender'] = df['annotator_gender'].copy()\n",
    "new_df['annotator_educ'] = df['annotator_educ'].copy()\n",
    "new_df['annotator_income'] = df['annotator_income'].copy()\n",
    "new_df['annotator_ideology'] = df['annotator_ideology'].copy()\n",
    "new_df['annotator_age'] = df['annotator_age'].copy()"
   ]
  },
  {
   "cell_type": "code",
   "execution_count": null,
   "metadata": {},
   "outputs": [],
   "source": [
    "# Replace values in the \"annotator_trans\" column\n",
    "new_df['annotator_trans'] = df['annotator_trans'].replace({'no': 'cisgender', 'yes': 'transgender'})"
   ]
  },
  {
   "cell_type": "code",
   "execution_count": null,
   "metadata": {},
   "outputs": [],
   "source": [
    "# List of one-hot encoded columns for annotator race\n",
    "annotator_race_columns = ['annotator_race_asian', 'annotator_race_black', 'annotator_race_latinx', 'annotator_race_middle_eastern', 'annotator_race_native_american', 'annotator_race_pacific_islander', 'annotator_race_white', 'annotator_race_other']\n",
    "\n",
    "# Create a new column 'annotator_race' by reversing the one-hot encoding\n",
    "new_df['annotator_race'] = df[annotator_race_columns].idxmax(axis=1).apply(lambda x: '_'.join(x.split('_')[2:]))\n",
    "\n",
    "# Print or use the DataFrame as needed\n",
    "print(new_df[['annotator_race']])"
   ]
  },
  {
   "cell_type": "code",
   "execution_count": null,
   "metadata": {},
   "outputs": [],
   "source": [
    "# List of one-hot encoded columns for annotator religion\n",
    "annotator_religion_columns = ['annotator_religion_atheist', 'annotator_religion_buddhist', 'annotator_religion_christian', 'annotator_religion_hindu', 'annotator_religion_jewish', 'annotator_religion_mormon', 'annotator_religion_muslim', 'annotator_religion_nothing', 'annotator_religion_other']\n",
    "\n",
    "# Create a new column 'annotator_religion' by reversing the one-hot encoding\n",
    "new_df['annotator_religion'] = df[annotator_religion_columns].idxmax(axis=1).apply(lambda x: '_'.join(x.split('_')[2:]))\n",
    "\n",
    "# Print or use the DataFrame as needed\n",
    "print(new_df[['annotator_religion']])"
   ]
  },
  {
   "cell_type": "code",
   "execution_count": null,
   "metadata": {},
   "outputs": [],
   "source": [
    "# List of one-hot encoded columns for annotator sexuality\n",
    "annotator_sexuality_columns = ['annotator_sexuality_bisexual', 'annotator_sexuality_gay', 'annotator_sexuality_straight', 'annotator_sexuality_other']\n",
    "\n",
    "# Create a new column 'annotator_sexuality' by reversing the one-hot encoding\n",
    "new_df['annotator_sexuality'] = df[annotator_sexuality_columns].idxmax(axis=1).apply(lambda x: '_'.join(x.split('_')[2:]))\n",
    "\n",
    "# Print or use the DataFrame as needed\n",
    "print(new_df[['annotator_sexuality']])"
   ]
  },
  {
   "cell_type": "code",
   "execution_count": null,
   "metadata": {},
   "outputs": [],
   "source": [
    "new_df.to_csv('ucberkeley_measuring_hate_speech_dataset_training.csv', index = False)"
   ]
  },
  {
   "cell_type": "code",
   "execution_count": null,
   "metadata": {},
   "outputs": [],
   "source": [
    "# List of one-hot encoded columns for target gender\n",
    "target_gender_columns = ['target_gender_men', 'target_gender_women', 'target_gender_transgender_men', 'target_gender_transgender_women', 'target_gender_other', 'target_gender_transgender_unspecified', 'target_gender_non_binary']\n",
    "\n",
    "# Create a new column 'target_gend' based on the conditions specified\n",
    "new_df['target_gend'] = df.apply(lambda row: 'unspecified' if not row['target_gender'] else next(('_'.join(col.split('_')[2:]) for col in target_gender_columns if row[col]), 'unspecified'), axis=1)\n",
    "\n",
    "# Print or use the DataFrame as needed\n",
    "print(new_df[['target_gend']])"
   ]
  },
  {
   "cell_type": "code",
   "execution_count": null,
   "metadata": {},
   "outputs": [],
   "source": [
    "# List of one-hot encoded columns for target race\n",
    "target_race_columns = ['target_race_asian', 'target_race_black', 'target_race_latinx', 'target_race_middle_eastern', 'target_race_native_american', 'target_race_pacific_islander', 'target_race_white', 'target_race_other']\n",
    "\n",
    "# Create a new column 'target_rac' based on the conditions specified\n",
    "new_df['target_rac'] = df.apply(lambda row: 'unspecified' if not row['target_race'] else next(('_'.join(col.split('_')[2:]) for col in target_race_columns if row[col]), 'unspecified'), axis=1)\n",
    "\n",
    "# Print or use the DataFrame as needed\n",
    "print(new_df[['target_rac']])"
   ]
  },
  {
   "cell_type": "code",
   "execution_count": null,
   "metadata": {},
   "outputs": [],
   "source": [
    "# List of one-hot encoded columns for target religion\n",
    "target_religion_columns = ['target_religion_atheist', 'target_religion_buddhist', 'target_religion_christian', 'target_religion_hindu', 'target_religion_jewish', 'target_religion_mormon', 'target_religion_muslim', 'target_religion_other']\n",
    "\n",
    "# Create a new column 'target_religio' based on the conditions specified\n",
    "new_df['target_religio'] = df.apply(lambda row: 'unspecified' if not row['target_religion'] else next(('_'.join(col.split('_')[2:]) for col in target_religion_columns if row[col]), 'unspecified'), axis=1)\n",
    "\n",
    "# Print or use the DataFrame as needed\n",
    "print(new_df[['target_religio']])"
   ]
  },
  {
   "cell_type": "code",
   "execution_count": null,
   "metadata": {},
   "outputs": [],
   "source": [
    "# List of one-hot encoded columns for target origin\n",
    "target_origin_columns = ['target_origin_immigrant', 'target_origin_migrant_worker', 'target_origin_specific_country', 'target_origin_undocumented', 'target_origin_other']\n",
    "\n",
    "# Create a new column 'target_origi' based on the conditions specified\n",
    "new_df['target_origi'] = df.apply(lambda row: 'unspecified' if not row['target_origin'] else next(('_'.join(col.split('_')[2:]) for col in target_origin_columns if row[col]), 'unspecified'), axis=1)\n",
    "\n",
    "# Print or use the DataFrame as needed\n",
    "print(new_df[['target_origi']])"
   ]
  },
  {
   "cell_type": "code",
   "execution_count": null,
   "metadata": {},
   "outputs": [],
   "source": [
    "# List of one-hot encoded columns for target sexuality\n",
    "target_sexuality_columns = ['target_sexuality_bisexual', 'target_sexuality_gay', 'target_sexuality_lesbian', 'target_sexuality_straight', 'target_sexuality_other']\n",
    "\n",
    "# Create a new column 'target_sexualit' based on the conditions specified\n",
    "new_df['target_sexualit'] = df.apply(lambda row: 'unspecified' if not row['target_sexuality'] else next(('_'.join(col.split('_')[2:]) for col in target_sexuality_columns if row[col]), 'unspecified'), axis=1)\n",
    "\n",
    "# Print or use the DataFrame as needed\n",
    "print(new_df[['target_sexualit']])"
   ]
  },
  {
   "cell_type": "code",
   "execution_count": null,
   "metadata": {},
   "outputs": [],
   "source": [
    "# List of one-hot encoded columns for target age\n",
    "target_age_columns = ['target_age_children', 'target_age_teenagers', 'target_age_young_adults', 'target_age_middle_aged', 'target_age_seniors', 'target_age_other']\n",
    "\n",
    "# Create a new column 'target_ag' based on the conditions specified\n",
    "new_df['target_ag'] = df.apply(lambda row: 'unspecified' if not row['target_age'] else next(('_'.join(col.split('_')[2:]) for col in target_age_columns if row[col]), 'unspecified'), axis=1)\n",
    "\n",
    "# Print or use the DataFrame as needed\n",
    "print(new_df[['target_ag']])"
   ]
  },
  {
   "cell_type": "code",
   "execution_count": null,
   "metadata": {},
   "outputs": [],
   "source": [
    "# List of one-hot encoded columns for target disability\n",
    "target_disability_columns = ['target_disability_physical', 'target_disability_cognitive', 'target_disability_neurological', 'target_disability_visually_impaired', 'target_disability_hearing_impaired', 'target_disability_unspecific', 'target_disability_other']\n",
    "\n",
    "# Create a new column 'target_disabilit' based on the conditions specified\n",
    "new_df['target_disabilit'] = df.apply(lambda row: 'unspecified' if not row['target_disability'] else next(('_'.join(col.split('_')[2:]) for col in target_disability_columns if row[col]), 'unspecified'), axis=1)\n",
    "\n",
    "# Print or use the DataFrame as needed\n",
    "print(new_df[['target_disabilit']])"
   ]
  },
  {
   "cell_type": "code",
   "execution_count": null,
   "metadata": {},
   "outputs": [],
   "source": [
    "#new_df.to_csv('ucberkeley_measuring_hate_speech_dataset_training_with_target.csv', index = False)"
   ]
  },
  {
   "cell_type": "code",
   "execution_count": null,
   "metadata": {},
   "outputs": [],
   "source": [
    "import pandas as pd\n",
    "\n",
    "# Assuming 'your_dataset.csv' is the name of your CSV file\n",
    "df = pd.read_csv('ucberkeley_measuring_hate_speech_dataset_training.csv')\n",
    "new_df = df.copy()\n",
    "new_df.drop(columns=['hatespeech'], axis=1, inplace=True)"
   ]
  },
  {
   "cell_type": "code",
   "execution_count": null,
   "metadata": {},
   "outputs": [],
   "source": [
    "new_df.to_csv('ucberkeley_measuring_hate_speech_dataset_testing.csv', index = False)"
   ]
  },
  {
   "cell_type": "code",
   "execution_count": null,
   "metadata": {},
   "outputs": [],
   "source": [
    "\n"
   ]
  },
  {
   "cell_type": "code",
   "execution_count": null,
   "metadata": {},
   "outputs": [],
   "source": []
  },
  {
   "cell_type": "code",
   "execution_count": 1,
   "metadata": {},
   "outputs": [],
   "source": [
    "import pandas as pd"
   ]
  },
  {
   "cell_type": "code",
   "execution_count": 2,
   "metadata": {},
   "outputs": [],
   "source": [
    "df1 = pd.read_csv(\"bert_final_predictions_preprocessed_v2.csv\")\n",
    "df2 = pd.read_csv(\"ucberkeley_measuring_hate_speech_dataset_preprocessed_v2.1.csv\")"
   ]
  },
  {
   "cell_type": "code",
   "execution_count": 3,
   "metadata": {},
   "outputs": [],
   "source": [
    "df1['comment_id'] = df2['comment_id'].copy()"
   ]
  },
  {
   "cell_type": "code",
   "execution_count": 4,
   "metadata": {},
   "outputs": [],
   "source": [
    "df1.to_csv('bert_final_predictions_preprocessed_v2.csv', index=False)"
   ]
  },
  {
   "cell_type": "code",
   "execution_count": null,
   "metadata": {},
   "outputs": [],
   "source": [
    "race = ['target_race_asian', 'target_race_black', 'target_race_latinx', 'target_race_middle_eastern', 'target_race_native_american', 'target_race_pacific_islander', 'target_race_white', 'target_race_other', 'target_race']\n",
    "\n",
    "for i in race:\n",
    "    df1[i] = df2[i].copy()"
   ]
  },
  {
   "cell_type": "code",
   "execution_count": null,
   "metadata": {},
   "outputs": [],
   "source": [
    "gender = ['annotator_gender_men', 'annotator_gender_women', 'annotator_gender_non_binary', 'annotator_gender_prefer_not_to_say', 'annotator_gender_self_describe']\n",
    "\n",
    "for i in gender:\n",
    "    df1[i] = df2[i].copy()"
   ]
  },
  {
   "cell_type": "code",
   "execution_count": null,
   "metadata": {},
   "outputs": [],
   "source": [
    "df1.rename(columns={'predictions': 'hatespeech'}, inplace=True)"
   ]
  },
  {
   "cell_type": "code",
   "execution_count": null,
   "metadata": {},
   "outputs": [],
   "source": [
    "df1"
   ]
  },
  {
   "cell_type": "code",
   "execution_count": null,
   "metadata": {},
   "outputs": [],
   "source": [
    "df1.to_csv('bert_final_predictions_preprocessed.csv', index=False)"
   ]
  },
  {
   "cell_type": "code",
   "execution_count": null,
   "metadata": {},
   "outputs": [],
   "source": []
  },
  {
   "cell_type": "code",
   "execution_count": null,
   "metadata": {},
   "outputs": [],
   "source": [
    "import pandas as pd\n",
    "df1 = pd.read_csv(\"final_combined_debert_sequential_output.csv\")\n",
    "df2 = pd.read_csv(\"ucberkeley_measuring_hate_speech_dataset_preprocessed.csv\")\n",
    "race = ['target_race_asian', 'target_race_black', 'target_race_latinx', 'target_race_middle_eastern', 'target_race_native_american', 'target_race_pacific_islander', 'target_race_white', 'target_race_other', 'target_race']\n",
    "\n",
    "for i in race:\n",
    "    df1[i] = df2[i].copy()\n",
    "gender = ['annotator_gender_men', 'annotator_gender_women', 'annotator_gender_non_binary', 'annotator_gender_prefer_not_to_say', 'annotator_gender_self_describe']\n",
    "\n",
    "for i in gender:\n",
    "    df1[i] = df2[i].copy()\n",
    "df1.rename(columns={'predicted_label': 'hatespeech'}, inplace=True)\n",
    "df1\n",
    "df1.to_csv('deberta_final_predictions_preprocessed.csv', index=False)"
   ]
  },
  {
   "cell_type": "code",
   "execution_count": null,
   "metadata": {},
   "outputs": [],
   "source": []
  },
  {
   "cell_type": "code",
   "execution_count": null,
   "metadata": {},
   "outputs": [],
   "source": [
    "import pandas as pd\n",
    "df1 = pd.read_csv(\"GPT2_sequential_clf_final_predictions.csv\")\n",
    "df2 = pd.read_csv(\"ucberkeley_measuring_hate_speech_dataset_preprocessed.csv\")\n",
    "race = ['target_race_asian', 'target_race_black', 'target_race_latinx', 'target_race_middle_eastern', 'target_race_native_american', 'target_race_pacific_islander', 'target_race_white', 'target_race_other', 'target_race']\n",
    "\n",
    "for i in race:\n",
    "    df1[i] = df2[i].copy()\n",
    "gender = ['annotator_gender_men', 'annotator_gender_women', 'annotator_gender_non_binary', 'annotator_gender_prefer_not_to_say', 'annotator_gender_self_describe']\n",
    "\n",
    "for i in gender:\n",
    "    df1[i] = df2[i].copy()\n",
    "#df1.rename(columns={'predicted_label': 'hatespeech'}, inplace=True)\n",
    "df1\n",
    "df1.to_csv('gpt2_final_predictions_preprocessed.csv', index=False)"
   ]
  },
  {
   "cell_type": "code",
   "execution_count": null,
   "metadata": {},
   "outputs": [],
   "source": []
  },
  {
   "cell_type": "code",
   "execution_count": null,
   "metadata": {},
   "outputs": [],
   "source": [
    "import pandas as pd"
   ]
  },
  {
   "cell_type": "code",
   "execution_count": null,
   "metadata": {},
   "outputs": [],
   "source": [
    "file_path = 'ucberkeley_measuring_hate_speech_dataset_preprocessed - Copy.csv'\n",
    "df = pd.read_csv(file_path)"
   ]
  },
  {
   "cell_type": "code",
   "execution_count": null,
   "metadata": {},
   "outputs": [],
   "source": [
    "a_race_columns = [col for col in df if col.startswith('annotator_race_')]\n",
    "a_religion_columns = [col for col in df if col.startswith('annotator_religion_')]\n",
    "a_sexuality_columns = [col for col in df if col.startswith('annotator_sexuality_')]"
   ]
  },
  {
   "cell_type": "code",
   "execution_count": null,
   "metadata": {},
   "outputs": [],
   "source": [
    "# Function to extract the annotator race or religion\n",
    "def extract_annotator_category(row, category_columns):\n",
    "    for col in category_columns:\n",
    "        if row[col]:\n",
    "            return col.replace('annotator_race_', '').replace('annotator_religion_', '').replace('annotator_sexuality_', '')\n",
    "    return 'none'"
   ]
  },
  {
   "cell_type": "code",
   "execution_count": null,
   "metadata": {},
   "outputs": [],
   "source": [
    "# Apply the function only on rows where target_race or target_religion is TRUE\n",
    "df['annotator_race'] = df.apply(lambda row: extract_annotator_category(row, a_race_columns), axis=1)\n",
    "df['annotator_religion'] = df.apply(lambda row: extract_annotator_category(row, a_religion_columns), axis=1)\n",
    "df['annotator_sexuality'] = df.apply(lambda row: extract_annotator_category(row, a_sexuality_columns), axis=1)"
   ]
  },
  {
   "cell_type": "code",
   "execution_count": null,
   "metadata": {},
   "outputs": [],
   "source": [
    "df['annotator_religion'] = df['annotator_religion'].replace('nothing', 'none')"
   ]
  },
  {
   "cell_type": "code",
   "execution_count": null,
   "metadata": {},
   "outputs": [],
   "source": [
    "df"
   ]
  },
  {
   "cell_type": "code",
   "execution_count": null,
   "metadata": {},
   "outputs": [],
   "source": [
    "df.to_csv('ucberkeley_measuring_hate_speech_dataset_preprocessed.csv', index=False)"
   ]
  },
  {
   "cell_type": "code",
   "execution_count": null,
   "metadata": {},
   "outputs": [],
   "source": []
  }
 ],
 "metadata": {
  "kernelspec": {
   "display_name": "tfgpu",
   "language": "python",
   "name": "python3"
  },
  "language_info": {
   "codemirror_mode": {
    "name": "ipython",
    "version": 3
   },
   "file_extension": ".py",
   "mimetype": "text/x-python",
   "name": "python",
   "nbconvert_exporter": "python",
   "pygments_lexer": "ipython3",
   "version": "3.10.13"
  }
 },
 "nbformat": 4,
 "nbformat_minor": 2
}
