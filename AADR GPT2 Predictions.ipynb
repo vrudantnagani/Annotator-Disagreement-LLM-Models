{
 "cells": [
  {
   "cell_type": "code",
   "execution_count": 1,
   "metadata": {},
   "outputs": [],
   "source": [
    "import pandas as pd\n",
    "import numpy as np\n",
    "import warnings\n",
    "warnings.filterwarnings('ignore')"
   ]
  },
  {
   "cell_type": "code",
   "execution_count": 2,
   "metadata": {},
   "outputs": [],
   "source": [
    "df = pd.read_csv('gpt2_final_predictions_preprocessed.csv')\n",
    "\n",
    "# List of target race categories\n",
    "target_race_categories = ['race_asian', 'race_black', 'race_latinx', 'race_middle_eastern', 'race_native_american', 'race_pacific_islander', 'race_white', 'race_other', 'race']\n",
    "\n",
    "# List of target religion categories\n",
    "target_religion_categories = ['religion_atheist', 'religion_buddhist', 'religion_christian', 'religion_hindu', 'religion_jewish', 'religion_mormon', 'religion_muslim', 'religion_other', 'religion']\n",
    "\n",
    "# List of target origin categories\n",
    "target_origin_categories = ['origin_immigrant', 'origin_migrant_worker', 'origin_specific_country', 'origin_undocumented', 'origin_other', 'origin']\n",
    "\n",
    "# List of target gender categories\n",
    "target_gender_categories = ['gender_men', 'gender_women', 'gender_transgender_men', 'gender_transgender_women', 'gender_other', 'gender_transgender_unspecified', 'gender_non_binary', 'gender']\n",
    "\n",
    "# List of target sexuality categories\n",
    "target_sexuality_categories = ['sexuality_bisexual', 'sexuality_gay', 'sexuality_lesbian', 'sexuality_straight', 'sexuality_other', 'sexuality']\n",
    "\n",
    "# List of target age categories\n",
    "target_age_categories = ['age_children', 'age_teenagers', 'age_young_adults', 'age_middle_aged', 'age_seniors', 'age_other', 'age']\n",
    "\n",
    "# List of target disability categories\n",
    "target_disability_categories = ['disability_physical', 'disability_cognitive', 'disability_neurological', 'disability_visually_impaired', 'disability_hearing_impaired', 'disability_unspecific', 'disability_other', 'disability']\n",
    "\n"
   ]
  },
  {
   "cell_type": "code",
   "execution_count": 3,
   "metadata": {},
   "outputs": [],
   "source": [
    "# Create an empty dictionary to store hate speech scores for each category\n",
    "race_hsscore_dict = {category: [] for category in target_race_categories}\n",
    "\n",
    "race_hsscore_dict_ann_men = {category: [] for category in target_race_categories}\n",
    "\n",
    "race_hsscore_dict_ann_women = {category: [] for category in target_race_categories}\n",
    "\n",
    "religion_hsscore_dict = {category: [] for category in target_religion_categories}\n",
    "\n",
    "origin_hsscore_dict = {category: [] for category in target_origin_categories}\n",
    "\n",
    "gender_hsscore_dict = {category: [] for category in target_gender_categories}\n",
    "\n",
    "sexuality_hsscore_dict = {category: [] for category in target_sexuality_categories}\n",
    "\n",
    "age_hsscore_dict = {category: [] for category in target_age_categories}\n",
    "\n",
    "disability_hsscore_dict = {category: [] for category in target_disability_categories}"
   ]
  },
  {
   "cell_type": "code",
   "execution_count": 4,
   "metadata": {},
   "outputs": [],
   "source": [
    "# Iterate through rows and populate the hate speech lists for each category\n",
    "for index, row in df.iterrows():\n",
    "    for category in race_hsscore_dict:\n",
    "        # Assuming 'target_race_category_column_name' is the one-hot encoded column for target gender\n",
    "        if row['target_' + category] == True:\n",
    "            # Assuming 'hatespeech' is the column storing hate speech scores\n",
    "            race_hsscore_dict[category].append(row['hatespeech'])"
   ]
  },
  {
   "cell_type": "code",
   "execution_count": 5,
   "metadata": {},
   "outputs": [],
   "source": [
    "df_men = df[df['annotator_gender_men'] == True].copy()\n",
    "df_women = df[df['annotator_gender_women'] == True].copy()"
   ]
  },
  {
   "cell_type": "code",
   "execution_count": 6,
   "metadata": {},
   "outputs": [],
   "source": [
    "# Iterate through rows and populate the hate speech lists for each category\n",
    "for index, row in df_men.iterrows():\n",
    "    for category in race_hsscore_dict_ann_men:\n",
    "        # Assuming 'target_race_category_column_name' is the one-hot encoded column for target gender\n",
    "        if row['target_' + category] == True:\n",
    "            # Assuming 'hatespeech' is the column storing hate speech scores\n",
    "            race_hsscore_dict_ann_men[category].append(row['hatespeech'])"
   ]
  },
  {
   "cell_type": "code",
   "execution_count": 7,
   "metadata": {},
   "outputs": [],
   "source": [
    "# Iterate through rows and populate the hate speech lists for each category\n",
    "for index, row in df_women.iterrows():\n",
    "    for category in race_hsscore_dict_ann_women:\n",
    "        # Assuming 'target_race_category_column_name' is the one-hot encoded column for target gender\n",
    "        if row['target_' + category] == True:\n",
    "            # Assuming 'hatespeech' is the column storing hate speech scores\n",
    "            race_hsscore_dict_ann_women[category].append(row['hatespeech'])"
   ]
  },
  {
   "cell_type": "code",
   "execution_count": null,
   "metadata": {},
   "outputs": [],
   "source": []
  },
  {
   "cell_type": "code",
   "execution_count": null,
   "metadata": {},
   "outputs": [],
   "source": [
    "# Iterate through rows and populate the hate speech lists for each category\n",
    "for index, row in df.iterrows():\n",
    "    for category in religion_hsscore_dict:\n",
    "        # Assuming 'target_religion_category_column_name' is the one-hot encoded column for target gender\n",
    "        if row['target_' + category] == True:\n",
    "            # Assuming 'hatespeech' is the column storing hate speech scores\n",
    "            religion_hsscore_dict[category].append(row['hatespeech'])"
   ]
  },
  {
   "cell_type": "code",
   "execution_count": null,
   "metadata": {},
   "outputs": [],
   "source": [
    "# Iterate through rows and populate the hate speech lists for each category\n",
    "for index, row in df.iterrows():\n",
    "    for category in origin_hsscore_dict:\n",
    "        # Assuming 'target_origin_category_column_name' is the one-hot encoded column for target gender\n",
    "        if row['target_' + category] == True:\n",
    "            # Assuming 'hatespeech' is the column storing hate speech scores\n",
    "            origin_hsscore_dict[category].append(row['hatespeech'])"
   ]
  },
  {
   "cell_type": "code",
   "execution_count": null,
   "metadata": {},
   "outputs": [],
   "source": [
    "# Iterate through rows and populate the hate speech lists for each category\n",
    "for index, row in df.iterrows():\n",
    "    for category in gender_hsscore_dict:\n",
    "        # Assuming 'target_gender_category_column_name' is the one-hot encoded column for target gender\n",
    "        if row['target_' + category] == True:\n",
    "            # Assuming 'hatespeech' is the column storing hate speech scores\n",
    "            gender_hsscore_dict[category].append(row['hatespeech'])"
   ]
  },
  {
   "cell_type": "code",
   "execution_count": null,
   "metadata": {},
   "outputs": [],
   "source": [
    "# Iterate through rows and populate the hate speech lists for each category\n",
    "for index, row in df.iterrows():\n",
    "    for category in sexuality_hsscore_dict:\n",
    "        # Assuming 'target_sexuality_category_column_name' is the one-hot encoded column for target sexuality\n",
    "        if row['target_' + category] == True:\n",
    "            # Assuming 'hatespeech' is the column storing hate speech scores\n",
    "            sexuality_hsscore_dict[category].append(row['hatespeech'])"
   ]
  },
  {
   "cell_type": "code",
   "execution_count": null,
   "metadata": {},
   "outputs": [],
   "source": [
    "# Iterate through rows and populate the hate speech lists for each category\n",
    "for index, row in df.iterrows():\n",
    "    for category in age_hsscore_dict:\n",
    "        # Assuming 'target_age_category_column_name' is the one-hot encoded column for target gender\n",
    "        if row['target_' + category] == True:\n",
    "            # Assuming 'hatespeech' is the column storing hate speech scores\n",
    "            age_hsscore_dict[category].append(row['hatespeech'])"
   ]
  },
  {
   "cell_type": "code",
   "execution_count": null,
   "metadata": {},
   "outputs": [],
   "source": [
    "# Iterate through rows and populate the hate speech lists for each category\n",
    "for index, row in df.iterrows():\n",
    "    for category in disability_hsscore_dict:\n",
    "        # Assuming 'target_disability_category_column_name' is the one-hot encoded column for target gender\n",
    "        if row['target_' + category] == True:\n",
    "            # Assuming 'hatespeech' is the column storing hate speech scores\n",
    "            disability_hsscore_dict[category].append(row['hatespeech'])"
   ]
  },
  {
   "cell_type": "code",
   "execution_count": null,
   "metadata": {},
   "outputs": [],
   "source": [
    "# Print or use the lists as needed\n",
    "print(\"Target Race:\\n\")\n",
    "for category, scores in race_hsscore_dict.items():\n",
    "    print(f\"{category}: {scores}\")"
   ]
  },
  {
   "cell_type": "code",
   "execution_count": null,
   "metadata": {},
   "outputs": [],
   "source": [
    "# Print or use the lists as needed\n",
    "print(\"Target Religion:\\n\")\n",
    "for category, scores in religion_hsscore_dict.items():\n",
    "    print(f\"{category}: {scores}\")"
   ]
  },
  {
   "cell_type": "code",
   "execution_count": null,
   "metadata": {},
   "outputs": [],
   "source": [
    "# Print or use the lists as needed\n",
    "print(\"Target Origin:\\n\")\n",
    "for category, scores in origin_hsscore_dict.items():\n",
    "    print(f\"{category}: {scores}\")"
   ]
  },
  {
   "cell_type": "code",
   "execution_count": null,
   "metadata": {},
   "outputs": [],
   "source": [
    "# Print or use the lists as needed\n",
    "print(\"Target Gender:\\n\")\n",
    "for category, scores in gender_hsscore_dict.items():\n",
    "    print(f\"{category}: {scores}\")\n"
   ]
  },
  {
   "cell_type": "code",
   "execution_count": null,
   "metadata": {},
   "outputs": [],
   "source": [
    "# Print or use the lists as needed\n",
    "print(\"Target Sexuality:\\n\")\n",
    "for category, scores in sexuality_hsscore_dict.items():\n",
    "    print(f\"{category}: {scores}\")"
   ]
  },
  {
   "cell_type": "code",
   "execution_count": null,
   "metadata": {},
   "outputs": [],
   "source": [
    "# Print or use the lists as needed\n",
    "print(\"Target Age:\\n\")\n",
    "for category, scores in age_hsscore_dict.items():\n",
    "    print(f\"{category}: {scores}\")"
   ]
  },
  {
   "cell_type": "code",
   "execution_count": null,
   "metadata": {},
   "outputs": [],
   "source": [
    "# Print or use the lists as needed\n",
    "print(\"Target Disability:\\n\")\n",
    "for category, scores in disability_hsscore_dict.items():\n",
    "    print(f\"{category}: {scores}\")"
   ]
  },
  {
   "cell_type": "code",
   "execution_count": null,
   "metadata": {},
   "outputs": [],
   "source": []
  },
  {
   "cell_type": "code",
   "execution_count": 8,
   "metadata": {},
   "outputs": [],
   "source": [
    "def calculate_aadr(categories_dict):\n",
    "    \"\"\"\n",
    "    Calculate Average Agreement Deviation Rate (AADR) for each category in the provided dictionary.\n",
    "\n",
    "    Parameters:\n",
    "    - categories_dict: dict, a dictionary where keys are category names and values are lists of hatespeech scores\n",
    "\n",
    "    Returns:\n",
    "    - results: dict, a dictionary containing calculated AADR for each category\n",
    "    \"\"\"\n",
    "\n",
    "    results = {}\n",
    "\n",
    "    for category, hatespeech_scores in categories_dict.items():\n",
    "        # Calculate disagreement rate for each category\n",
    "        disagreement_rate = 1 - (hatespeech_scores.count(max(set(hatespeech_scores), key=hatespeech_scores.count)) / len(hatespeech_scores))\n",
    "\n",
    "        # Store the AADR for the category\n",
    "        results[category] = disagreement_rate\n",
    "\n",
    "    return results"
   ]
  },
  {
   "cell_type": "code",
   "execution_count": 9,
   "metadata": {},
   "outputs": [
    {
     "name": "stdout",
     "output_type": "stream",
     "text": [
      "AADR for Target Race:\n",
      "\n",
      "{'race_asian': 0.16899401538899972, 'race_black': 0.3391771958203996, 'race_latinx': 0.16741281809613573, 'race_middle_eastern': 0.19957627118644072, 'race_native_american': 0.08771306818181823, 'race_pacific_islander': 0.10908319185059423, 'race_white': 0.23888377798221405, 'race_other': 0.26213389121338915, 'race': 0.26313392672324576}\n",
      "\n",
      "Highest Disagreement (Lowest AADR): race_black - AADR: 0.3391771958203996\n",
      "\n",
      "Lowest Disagreement (Highest AADR): race_native_american - AADR: 0.08771306818181823\n"
     ]
    }
   ],
   "source": [
    "race_aadr_result_dict = calculate_aadr(race_hsscore_dict)\n",
    "print(\"AADR for Target Race:\\n\")\n",
    "print(race_aadr_result_dict)\n",
    "\n",
    "# Find the category with the highest and lowest AADR\n",
    "max_category = max(race_aadr_result_dict, key=race_aadr_result_dict.get)\n",
    "min_category = min(race_aadr_result_dict, key=race_aadr_result_dict.get)\n",
    "\n",
    "# Print the results\n",
    "print(f\"\\nHighest Disagreement (Lowest AADR): {max_category} - AADR: {race_aadr_result_dict[max_category]}\")\n",
    "print(f\"\\nLowest Disagreement (Highest AADR): {min_category} - AADR: {race_aadr_result_dict[min_category]}\")"
   ]
  },
  {
   "cell_type": "code",
   "execution_count": 10,
   "metadata": {},
   "outputs": [
    {
     "name": "stdout",
     "output_type": "stream",
     "text": [
      "AADR for Target Race and Annotator Gender Men:\n",
      "\n",
      "{'race_asian': 0.17919075144508667, 'race_black': 0.33831893827680637, 'race_latinx': 0.16723646723646723, 'race_middle_eastern': 0.20507226615762209, 'race_native_american': 0.08201058201058198, 'race_pacific_islander': 0.10509885535900099, 'race_white': 0.23887933153108876, 'race_other': 0.275993467610234, 'race': 0.2662429378531074}\n",
      "\n",
      "Highest Disagreement (Lowest AADR): race_black - AADR: 0.33831893827680637\n",
      "\n",
      "Lowest Disagreement (Highest AADR): race_native_american - AADR: 0.08201058201058198\n"
     ]
    }
   ],
   "source": [
    "race_ann_men_aadr_result_dict = calculate_aadr(race_hsscore_dict_ann_men)\n",
    "print(\"AADR for Target Race and Annotator Gender Men:\\n\")\n",
    "print(race_ann_men_aadr_result_dict)\n",
    "\n",
    "# Find the category with the highest and lowest AADR\n",
    "max_category = max(race_ann_men_aadr_result_dict, key=race_ann_men_aadr_result_dict.get)\n",
    "min_category = min(race_ann_men_aadr_result_dict, key=race_ann_men_aadr_result_dict.get)\n",
    "\n",
    "# Print the results\n",
    "print(f\"\\nHighest Disagreement (Lowest AADR): {max_category} - AADR: {race_ann_men_aadr_result_dict[max_category]}\")\n",
    "print(f\"\\nLowest Disagreement (Highest AADR): {min_category} - AADR: {race_ann_men_aadr_result_dict[min_category]}\")"
   ]
  },
  {
   "cell_type": "code",
   "execution_count": 11,
   "metadata": {},
   "outputs": [
    {
     "name": "stdout",
     "output_type": "stream",
     "text": [
      "AADR for Target Race and Annotator Gender Women:\n",
      "\n",
      "{'race_asian': 0.1615345784957093, 'race_black': 0.33998476770753994, 'race_latinx': 0.16823963890028726, 'race_middle_eastern': 0.197452229299363, 'race_native_american': 0.09262644728823888, 'race_pacific_islander': 0.11250925240562548, 'race_white': 0.23909560263485852, 'race_other': 0.25400139178844816, 'race': 0.26131930276674187}\n",
      "\n",
      "Highest Disagreement (Lowest AADR): race_black - AADR: 0.33998476770753994\n",
      "\n",
      "Lowest Disagreement (Highest AADR): race_native_american - AADR: 0.09262644728823888\n"
     ]
    }
   ],
   "source": [
    "race_ann_women_aadr_result_dict = calculate_aadr(race_hsscore_dict_ann_women)\n",
    "print(\"AADR for Target Race and Annotator Gender Women:\\n\")\n",
    "print(race_ann_women_aadr_result_dict)\n",
    "\n",
    "# Find the category with the highest and lowest AADR\n",
    "max_category = max(race_ann_women_aadr_result_dict, key=race_ann_women_aadr_result_dict.get)\n",
    "min_category = min(race_ann_women_aadr_result_dict, key=race_ann_women_aadr_result_dict.get)\n",
    "\n",
    "# Print the results\n",
    "print(f\"\\nHighest Disagreement (Lowest AADR): {max_category} - AADR: {race_ann_women_aadr_result_dict[max_category]}\")\n",
    "print(f\"\\nLowest Disagreement (Highest AADR): {min_category} - AADR: {race_ann_women_aadr_result_dict[min_category]}\")"
   ]
  },
  {
   "cell_type": "code",
   "execution_count": null,
   "metadata": {},
   "outputs": [],
   "source": []
  },
  {
   "cell_type": "code",
   "execution_count": null,
   "metadata": {},
   "outputs": [],
   "source": [
    "religion_aadr_result_dict = calculate_aadr(religion_hsscore_dict)\n",
    "print(\"AADR for Target Religion:\\n\")\n",
    "print(religion_aadr_result_dict)\n",
    "\n",
    "# Find the category with the highest and lowest AADR\n",
    "max_category = max(religion_aadr_result_dict, key=religion_aadr_result_dict.get)\n",
    "min_category = min(religion_aadr_result_dict, key=religion_aadr_result_dict.get)\n",
    "\n",
    "# Print the results\n",
    "print(f\"\\nHighest Disagreement (Lowest AADR): {max_category} - AADR: {religion_aadr_result_dict[max_category]}\")\n",
    "print(f\"\\nLowest Disagreement (Highest AADR): {min_category} - AADR: {religion_aadr_result_dict[min_category]}\")"
   ]
  },
  {
   "cell_type": "code",
   "execution_count": null,
   "metadata": {},
   "outputs": [],
   "source": [
    "origin_aadr_result_dict = calculate_aadr(origin_hsscore_dict)\n",
    "print(\"AADR for Target Origin:\\n\")\n",
    "print(origin_aadr_result_dict)\n",
    "\n",
    "# Find the category with the highest and lowest AADR\n",
    "max_category = max(origin_aadr_result_dict, key=origin_aadr_result_dict.get)\n",
    "min_category = min(origin_aadr_result_dict, key=origin_aadr_result_dict.get)\n",
    "\n",
    "# Print the results\n",
    "print(f\"\\nHighest Disagreement (Lowest AADR): {max_category} - AADR: {origin_aadr_result_dict[max_category]}\")\n",
    "print(f\"\\nLowest Disagreement (Highest AADR): {min_category} - AADR: {origin_aadr_result_dict[min_category]}\")"
   ]
  },
  {
   "cell_type": "code",
   "execution_count": null,
   "metadata": {},
   "outputs": [],
   "source": [
    "gender_aadr_result_dict = calculate_aadr(gender_hsscore_dict)\n",
    "print(\"AADR for Target Gender:\\n\")\n",
    "print(gender_aadr_result_dict)\n",
    "\n",
    "# Find the category with the highest and lowest AADR\n",
    "max_category = max(gender_aadr_result_dict, key=gender_aadr_result_dict.get)\n",
    "min_category = min(gender_aadr_result_dict, key=gender_aadr_result_dict.get)\n",
    "\n",
    "# Print the results\n",
    "print(f\"\\nHighest Disagreement (Lowest AADR): {max_category} - AADR: {gender_aadr_result_dict[max_category]}\")\n",
    "print(f\"\\nLowest Disagreement (Highest AADR): {min_category} - AADR: {gender_aadr_result_dict[min_category]}\")"
   ]
  },
  {
   "cell_type": "code",
   "execution_count": null,
   "metadata": {},
   "outputs": [],
   "source": [
    "sexuality_aadr_result_dict = calculate_aadr(sexuality_hsscore_dict)\n",
    "print(\"AADR for Target Sexuality:\\n\")\n",
    "print(sexuality_aadr_result_dict)\n",
    "\n",
    "# Find the category with the highest and lowest AADR\n",
    "max_category = max(sexuality_aadr_result_dict, key=sexuality_aadr_result_dict.get)\n",
    "min_category = min(sexuality_aadr_result_dict, key=sexuality_aadr_result_dict.get)\n",
    "\n",
    "# Print the results\n",
    "print(f\"\\nHighest Disagreement (Lowest AADR): {max_category} - AADR: {sexuality_aadr_result_dict[max_category]}\")\n",
    "print(f\"\\nLowest Disagreement (Highest AADR): {min_category} - AADR: {sexuality_aadr_result_dict[min_category]}\")"
   ]
  },
  {
   "cell_type": "code",
   "execution_count": null,
   "metadata": {},
   "outputs": [],
   "source": [
    "age_aadr_result_dict = calculate_aadr(age_hsscore_dict)\n",
    "print(\"AADR for Target Age:\\n\")\n",
    "print(age_aadr_result_dict)\n",
    "\n",
    "# Find the category with the highest and lowest AADR\n",
    "max_category = max(age_aadr_result_dict, key=age_aadr_result_dict.get)\n",
    "min_category = min(age_aadr_result_dict, key=age_aadr_result_dict.get)\n",
    "\n",
    "# Print the results\n",
    "print(f\"\\nHighest Disagreement (Lowest AADR): {max_category} - AADR: {age_aadr_result_dict[max_category]}\")\n",
    "print(f\"\\nLowest Disagreement (Highest AADR): {min_category} - AADR: {age_aadr_result_dict[min_category]}\")"
   ]
  },
  {
   "cell_type": "code",
   "execution_count": null,
   "metadata": {},
   "outputs": [],
   "source": [
    "disability_aadr_result_dict = calculate_aadr(disability_hsscore_dict)\n",
    "print(\"AADR for Target Disability:\\n\")\n",
    "print(disability_aadr_result_dict)\n",
    "\n",
    "# Find the category with the highest and lowest AADR\n",
    "max_category = max(disability_aadr_result_dict, key=disability_aadr_result_dict.get)\n",
    "min_category = min(disability_aadr_result_dict, key=disability_aadr_result_dict.get)\n",
    "\n",
    "# Print the results\n",
    "print(f\"\\nHighest Disagreement (Lowest AADR): {max_category} - AADR: {disability_aadr_result_dict[max_category]}\")\n",
    "print(f\"\\nLowest Disagreement (Highest AADR): {min_category} - AADR: {disability_aadr_result_dict[min_category]}\")"
   ]
  }
 ],
 "metadata": {
  "kernelspec": {
   "display_name": "tfgpu",
   "language": "python",
   "name": "python3"
  },
  "language_info": {
   "codemirror_mode": {
    "name": "ipython",
    "version": 3
   },
   "file_extension": ".py",
   "mimetype": "text/x-python",
   "name": "python",
   "nbconvert_exporter": "python",
   "pygments_lexer": "ipython3",
   "version": "3.10.13"
  }
 },
 "nbformat": 4,
 "nbformat_minor": 2
}
